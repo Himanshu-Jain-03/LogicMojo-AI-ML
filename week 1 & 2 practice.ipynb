{
  "cells": [
    {
      "cell_type": "markdown",
      "metadata": {
        "id": "jE0OBBYx3OO6"
      },
      "source": [
        "**Difference between list, set, tuple**"
      ]
    },
    {
      "cell_type": "markdown",
      "metadata": {
        "id": "hWXlH-5r2tzV"
      },
      "source": [
        "**List []** - ordered, mutable\n",
        "**Set {}** - unordered, mutable\n",
        "**Tuple ()** - ordered, immutable"
      ]
    },
    {
      "cell_type": "markdown",
      "metadata": {
        "id": "6BdI1e9m2RSS"
      },
      "source": [
        "**Dictionary**"
      ]
    },
    {
      "cell_type": "code",
      "execution_count": null,
      "metadata": {
        "colab": {
          "base_uri": "https://localhost:8080/",
          "height": 35
        },
        "id": "pRP02_3X12b_",
        "outputId": "4ffbba03-1a7a-4551-f0ae-f8555a47b806"
      },
      "outputs": [
        {
          "data": {
            "application/vnd.google.colaboratory.intrinsic+json": {
              "type": "string"
            },
            "text/plain": [
              "'HJ1000001'"
            ]
          },
          "execution_count": 27,
          "metadata": {},
          "output_type": "execute_result"
        }
      ],
      "source": [
        "deals_data = {\"deal_code\" : \"HJ1000001\", \"target_name\" : \"HJ\"}\n",
        "deals_data[\"deal_code\"]\n"
      ]
    },
    {
      "cell_type": "code",
      "execution_count": null,
      "metadata": {
        "colab": {
          "base_uri": "https://localhost:8080/",
          "height": 35
        },
        "id": "_dDe4rRq3Y3o",
        "outputId": "e4222c42-5bd1-49ec-ac88-000afd7be6c8"
      },
      "outputs": [
        {
          "data": {
            "application/vnd.google.colaboratory.intrinsic+json": {
              "type": "string"
            },
            "text/plain": [
              "'HJ1000003'"
            ]
          },
          "execution_count": 5,
          "metadata": {},
          "output_type": "execute_result"
        }
      ],
      "source": [
        "deals_data = [{\"deal_code\" : \"HJ1000001\", \"target_name\" : \"HJ\"},{\"deal_code\" : \"HJ1000002\", \"target_name\" : \"HDJ\"}, {\"deal_code\" : \"HJ1000003\", \"target_name\" : \"HDSJ\"}]\n",
        "deals_data[2][\"deal_code\"]"
      ]
    },
    {
      "cell_type": "markdown",
      "metadata": {
        "id": "JY6x0b0H8V-M"
      },
      "source": [
        "**Variables and Functions**"
      ]
    },
    {
      "cell_type": "code",
      "execution_count": null,
      "metadata": {
        "id": "sRB9oPM98ZFk"
      },
      "outputs": [],
      "source": [
        "def HJ():\n",
        "  a = 10\n",
        "  b = 19\n",
        "  c = 30\n",
        "  d = a+b-c\n",
        "  e = d*-1\n",
        "  f = e*49\n",
        "  print(\"the output is\", f)\n"
      ]
    },
    {
      "cell_type": "code",
      "execution_count": null,
      "metadata": {
        "id": "l7wkisyiPMbv",
        "colab": {
          "base_uri": "https://localhost:8080/"
        },
        "outputId": "ec87799d-ddca-40f8-8594-470a516a8219"
      },
      "outputs": [
        {
          "output_type": "stream",
          "name": "stdout",
          "text": [
            "the output is 49\n"
          ]
        }
      ],
      "source": [
        "HJ()"
      ]
    },
    {
      "cell_type": "code",
      "source": [
        "name = input(\"enter your name: \")\n",
        "print(\"your name is \", name)"
      ],
      "metadata": {
        "colab": {
          "base_uri": "https://localhost:8080/"
        },
        "id": "xKcnqW6p0DrM",
        "outputId": "c513dbff-145c-461c-8a04-2a48ecbb3510"
      },
      "execution_count": null,
      "outputs": [
        {
          "output_type": "stream",
          "name": "stdout",
          "text": [
            "enter your name: HJ\n",
            "your name is  HJ\n"
          ]
        }
      ]
    },
    {
      "cell_type": "markdown",
      "source": [
        "**Multiple Inputs**"
      ],
      "metadata": {
        "id": "Ofm2tchbUZh5"
      }
    },
    {
      "cell_type": "code",
      "source": [
        "a, b, c = input(\"enter number with comma space: \").split(\", \")\n",
        "print(\"your 1st number is \", a)\n",
        "print(\"your 2nd number is \", b)\n",
        "print(\"your 3rd number is \", c)\n",
        "type(a)"
      ],
      "metadata": {
        "colab": {
          "base_uri": "https://localhost:8080/"
        },
        "id": "Ry6XWqF_UfA3",
        "outputId": "d27e58f4-53f7-4843-f72d-efddb1f75144"
      },
      "execution_count": null,
      "outputs": [
        {
          "output_type": "stream",
          "name": "stdout",
          "text": [
            "enter number with comma space: 3, 4, 5\n",
            "your 1st number is  3\n",
            "your 2nd number is  4\n",
            "your 3rd number is  5\n"
          ]
        },
        {
          "output_type": "execute_result",
          "data": {
            "text/plain": [
              "str"
            ]
          },
          "metadata": {},
          "execution_count": 7
        }
      ]
    },
    {
      "cell_type": "code",
      "source": [
        "a, b, c, d = map(float, input(\"enter number with comma space: \").split(\", \"))\n",
        "print(\"your 1st number is \", a)\n",
        "print(\"your 2nd number is \", b)\n",
        "print(\"your 3rd number is \", c)\n",
        "print(\"your 4th number is \", d)\n",
        "type(a)"
      ],
      "metadata": {
        "colab": {
          "base_uri": "https://localhost:8080/"
        },
        "id": "joD7bp7dXQoL",
        "outputId": "cda7ec71-5ee2-4607-da44-a465b2f190da"
      },
      "execution_count": null,
      "outputs": [
        {
          "output_type": "stream",
          "name": "stdout",
          "text": [
            "enter number with comma space: 1, 2, 3, 5\n",
            "your 1st number is  1.0\n",
            "your 2nd number is  2.0\n",
            "your 3rd number is  3.0\n",
            "your 4th number is  5.0\n"
          ]
        },
        {
          "output_type": "execute_result",
          "data": {
            "text/plain": [
              "float"
            ]
          },
          "metadata": {},
          "execution_count": 12
        }
      ]
    },
    {
      "cell_type": "code",
      "source": [
        "from ast import Num\n",
        "a, b, c, d  = [int(num) for num in input(\"enter number with comma space: \").split(\", \")]\n",
        "print(\"your 1st number is \", a)\n",
        "print(\"your 2nd number is \", b)\n",
        "print(\"your 3rd number is \", c)\n",
        "print(\"your 4th number is \", d)\n",
        "type(a)"
      ],
      "metadata": {
        "colab": {
          "base_uri": "https://localhost:8080/"
        },
        "id": "QZsbO21xXuaJ",
        "outputId": "f33fad6d-07f8-4d78-916f-6b183426c924"
      },
      "execution_count": null,
      "outputs": [
        {
          "output_type": "stream",
          "name": "stdout",
          "text": [
            "enter number with comma space: 1, 2, 3, 5\n",
            "your 1st number is  1\n",
            "your 2nd number is  2\n",
            "your 3rd number is  3\n",
            "your 4th number is  5\n"
          ]
        },
        {
          "output_type": "execute_result",
          "data": {
            "text/plain": [
              "int"
            ]
          },
          "metadata": {},
          "execution_count": 17
        }
      ]
    },
    {
      "cell_type": "code",
      "source": [
        "digit = {int(digit) for digit in input(\"enter number with comma space: \").split(\", \")}\n",
        "print(digit)\n",
        "type(digit)"
      ],
      "metadata": {
        "colab": {
          "base_uri": "https://localhost:8080/"
        },
        "id": "Gf0M9u4bWzrv",
        "outputId": "4932ef4e-8b1f-4292-fa36-b12800fc7ba7"
      },
      "execution_count": null,
      "outputs": [
        {
          "output_type": "stream",
          "name": "stdout",
          "text": [
            "enter number with comma space: 1, 2, 3, 4\n",
            "{1, 2, 3, 4}\n"
          ]
        },
        {
          "output_type": "execute_result",
          "data": {
            "text/plain": [
              "set"
            ]
          },
          "metadata": {},
          "execution_count": 28
        }
      ]
    },
    {
      "cell_type": "code",
      "source": [
        "digit = input(\"enter number with comma space: \").split(\", \")\n",
        "digit = [int(digit) for digit in digit]\n",
        "print(digit)"
      ],
      "metadata": {
        "colab": {
          "base_uri": "https://localhost:8080/"
        },
        "id": "OKnOzEKUksA3",
        "outputId": "6f398ee3-13ba-4007-e93c-bbd7ce852a1d"
      },
      "execution_count": null,
      "outputs": [
        {
          "output_type": "stream",
          "name": "stdout",
          "text": [
            "enter number with comma space: 1, 2, 3, 4\n",
            "[1, 2, 3, 4]\n"
          ]
        }
      ]
    },
    {
      "cell_type": "code",
      "source": [
        "d = {\"XXXX\":6666, \"YYYYY\":77777}\n",
        "l = [\"XXXXX\",\"XXXXX\",\"YYYY\"]\n",
        "s = [d.get(key,\"abc\") for key in l]\n",
        "print (s)"
      ],
      "metadata": {
        "colab": {
          "base_uri": "https://localhost:8080/"
        },
        "id": "1SE0LR8P0EGB",
        "outputId": "c3e21062-c43d-4d7a-8133-0b59c9334813"
      },
      "execution_count": null,
      "outputs": [
        {
          "output_type": "stream",
          "name": "stdout",
          "text": [
            "['abc', 'abc', 'abc']\n"
          ]
        }
      ]
    },
    {
      "cell_type": "code",
      "source": [
        "abc = (1, 2, 3, 4, 5, 6, 7)\n",
        "total_sum = 0\n",
        "for numbers in abc:\n",
        "    total_sum = total_sum + numbers\n",
        "print (\"total sum is \", total_sum)"
      ],
      "metadata": {
        "colab": {
          "base_uri": "https://localhost:8080/"
        },
        "id": "7_Ri1dZu4tUK",
        "outputId": "acbce6b2-f262-46f7-81ea-f9ff503f3e7a"
      },
      "execution_count": null,
      "outputs": [
        {
          "output_type": "stream",
          "name": "stdout",
          "text": [
            "total sum is  28\n"
          ]
        }
      ]
    },
    {
      "cell_type": "code",
      "source": [
        "for i in range(10):\n",
        "    print((float(i)))"
      ],
      "metadata": {
        "colab": {
          "base_uri": "https://localhost:8080/"
        },
        "id": "MJp0mqchIsE0",
        "outputId": "ae8fe3a0-db30-4c52-879d-cb1c0b87c6a6"
      },
      "execution_count": null,
      "outputs": [
        {
          "output_type": "stream",
          "name": "stdout",
          "text": [
            "0.0\n",
            "1.0\n",
            "2.0\n",
            "3.0\n",
            "4.0\n",
            "5.0\n",
            "6.0\n",
            "7.0\n",
            "8.0\n",
            "9.0\n"
          ]
        }
      ]
    },
    {
      "cell_type": "code",
      "source": [
        "\n",
        "while True:\n",
        "             num = input()\n",
        "             if int(num) == 5:\n",
        "                print(25)\n",
        "                break\n",
        "             elif int(num) %4== 0:\n",
        "                continue\n",
        "             else: print(int(num)*int(num))\n",
        "\n",
        "\n",
        "\n"
      ],
      "metadata": {
        "colab": {
          "base_uri": "https://localhost:8080/"
        },
        "id": "i98_GOPVXxfv",
        "outputId": "4b70d452-c4d0-4419-8378-15f570ff1ac5"
      },
      "execution_count": null,
      "outputs": [
        {
          "output_type": "stream",
          "name": "stdout",
          "text": [
            "8\n",
            "12\n",
            "16\n",
            "5\n",
            "25\n"
          ]
        }
      ]
    },
    {
      "cell_type": "code",
      "source": [
        "\n",
        "abc = (1, 2, 3, 4, 5, 8, 8, 9)\n",
        "for i in abc:\n",
        "    if int(i) < 10:\n",
        "      print(int(i))\n"
      ],
      "metadata": {
        "colab": {
          "base_uri": "https://localhost:8080/"
        },
        "id": "2lkuqRy8uI8f",
        "outputId": "4413d68c-5372-491d-98ec-d6e7a950f6ec"
      },
      "execution_count": null,
      "outputs": [
        {
          "output_type": "stream",
          "name": "stdout",
          "text": [
            "1\n",
            "2\n",
            "3\n",
            "4\n",
            "5\n",
            "8\n",
            "8\n",
            "9\n"
          ]
        }
      ]
    },
    {
      "cell_type": "code",
      "source": [
        "\n",
        "abc = (1, 2, 3, 4, 5, 8, 8, 9)\n",
        "while abc > 0:\n",
        "      print(abc)\n",
        "\n"
      ],
      "metadata": {
        "colab": {
          "base_uri": "https://localhost:8080/",
          "height": 211
        },
        "id": "GBDxIAittCLp",
        "outputId": "d5bb5399-ed4b-421e-be02-c70b47882c0b"
      },
      "execution_count": null,
      "outputs": [
        {
          "output_type": "error",
          "ename": "TypeError",
          "evalue": "'>' not supported between instances of 'tuple' and 'int'",
          "traceback": [
            "\u001b[0;31m---------------------------------------------------------------------------\u001b[0m",
            "\u001b[0;31mTypeError\u001b[0m                                 Traceback (most recent call last)",
            "\u001b[0;32m/tmp/ipython-input-543140151.py\u001b[0m in \u001b[0;36m<cell line: 0>\u001b[0;34m()\u001b[0m\n\u001b[1;32m      1\u001b[0m \u001b[0mabc\u001b[0m \u001b[0;34m=\u001b[0m \u001b[0;34m(\u001b[0m\u001b[0;36m1\u001b[0m\u001b[0;34m,\u001b[0m \u001b[0;36m2\u001b[0m\u001b[0;34m,\u001b[0m \u001b[0;36m3\u001b[0m\u001b[0;34m,\u001b[0m \u001b[0;36m4\u001b[0m\u001b[0;34m,\u001b[0m \u001b[0;36m5\u001b[0m\u001b[0;34m,\u001b[0m \u001b[0;36m8\u001b[0m\u001b[0;34m,\u001b[0m \u001b[0;36m8\u001b[0m\u001b[0;34m,\u001b[0m \u001b[0;36m9\u001b[0m\u001b[0;34m)\u001b[0m\u001b[0;34m\u001b[0m\u001b[0;34m\u001b[0m\u001b[0m\n\u001b[0;32m----> 2\u001b[0;31m \u001b[0;32mwhile\u001b[0m \u001b[0mabc\u001b[0m \u001b[0;34m>\u001b[0m \u001b[0;36m0\u001b[0m\u001b[0;34m:\u001b[0m\u001b[0;34m\u001b[0m\u001b[0;34m\u001b[0m\u001b[0m\n\u001b[0m\u001b[1;32m      3\u001b[0m       \u001b[0mprint\u001b[0m\u001b[0;34m(\u001b[0m\u001b[0mabc\u001b[0m\u001b[0;34m)\u001b[0m\u001b[0;34m\u001b[0m\u001b[0;34m\u001b[0m\u001b[0m\n\u001b[1;32m      4\u001b[0m \u001b[0;34m\u001b[0m\u001b[0m\n\u001b[1;32m      5\u001b[0m \u001b[0;34m\u001b[0m\u001b[0m\n",
            "\u001b[0;31mTypeError\u001b[0m: '>' not supported between instances of 'tuple' and 'int'"
          ]
        }
      ]
    },
    {
      "cell_type": "code",
      "source": [
        "for x in range(3):\n",
        "    for y in range(5):\n",
        "        print(\"*\", end=\"\")\n",
        "    print()\n"
      ],
      "metadata": {
        "colab": {
          "base_uri": "https://localhost:8080/"
        },
        "id": "it5HdElkwtQG",
        "outputId": "68a5680c-64ce-45db-f016-b24a4d6b387c"
      },
      "execution_count": null,
      "outputs": [
        {
          "output_type": "stream",
          "name": "stdout",
          "text": [
            "*****\n",
            "*****\n",
            "*****\n"
          ]
        }
      ]
    },
    {
      "cell_type": "code",
      "source": [
        "n = 0\n",
        "while n<6:\n",
        "      x = (\"*\")*n\n",
        "      print(x)\n",
        "      n+=1"
      ],
      "metadata": {
        "colab": {
          "base_uri": "https://localhost:8080/"
        },
        "id": "24ZJTTgMxaf2",
        "outputId": "593abd2b-1c26-4ad0-efa7-305b76838354"
      },
      "execution_count": null,
      "outputs": [
        {
          "output_type": "stream",
          "name": "stdout",
          "text": [
            "\n",
            "*\n",
            "**\n",
            "***\n",
            "****\n",
            "*****\n"
          ]
        }
      ]
    },
    {
      "cell_type": "code",
      "source": [
        "n = 5\n",
        "for i in range(n):\n",
        "    for j in range(5-i):\n",
        "        print(' ',end='')\n",
        "    for z in range(2*i+1):\n",
        "        print('*',end='')\n",
        "    print('')\n"
      ],
      "metadata": {
        "colab": {
          "base_uri": "https://localhost:8080/"
        },
        "id": "pfIQOPPs229g",
        "outputId": "65783a9d-3c5a-4b90-c61e-3c2336431171"
      },
      "execution_count": null,
      "outputs": [
        {
          "output_type": "stream",
          "name": "stdout",
          "text": [
            "     *\n",
            "    ***\n",
            "   *****\n",
            "  *******\n",
            " *********\n"
          ]
        }
      ]
    },
    {
      "cell_type": "code",
      "source": [
        " n = 5\n",
        "for i in range(n):\n",
        "    for j in range(5-i-1):\n",
        "        print(' ',end='')\n",
        "    for z in range(2*i+1):\n",
        "        print('*',end='')\n",
        "    print('')\n",
        "for k in range(n-1,0,-1):\n",
        "    print(' '*(n-k),end='')\n",
        "    print('*'*(2*k-1))"
      ],
      "metadata": {
        "colab": {
          "base_uri": "https://localhost:8080/"
        },
        "id": "vNFEpzXnNz3q",
        "outputId": "a4e96755-091b-4280-c672-b762ef78b963"
      },
      "execution_count": 3,
      "outputs": [
        {
          "output_type": "stream",
          "name": "stdout",
          "text": [
            "    *\n",
            "   ***\n",
            "  *****\n",
            " *******\n",
            "*********\n",
            " *******\n",
            "  *****\n",
            "   ***\n",
            "    *\n"
          ]
        }
      ]
    },
    {
      "cell_type": "code",
      "source": [
        "l = 'abcba'\n",
        "for i in range(len(l)-1):\n",
        "   if l[i] != l[len(l)-i-1]:\n",
        "      print(\"not palindrome\")\n",
        "   else:\n",
        "      continue\n",
        "print(\"palinndrome\")"
      ],
      "metadata": {
        "colab": {
          "base_uri": "https://localhost:8080/"
        },
        "id": "ohwDi972HjY3",
        "outputId": "98e15e13-3a98-4bec-d525-855796aa89e3"
      },
      "execution_count": 66,
      "outputs": [
        {
          "output_type": "stream",
          "name": "stdout",
          "text": [
            "palinndrome\n"
          ]
        }
      ]
    },
    {
      "cell_type": "code",
      "source": [
        "j = ''\n",
        "l = 'himanshu'\n",
        "for i in l:\n",
        "   j = i + j\n",
        "print(j)"
      ],
      "metadata": {
        "colab": {
          "base_uri": "https://localhost:8080/"
        },
        "id": "75vmqt_xOSzl",
        "outputId": "c9b3cfbb-24bf-42e6-88c0-a8d7840af429"
      },
      "execution_count": 7,
      "outputs": [
        {
          "output_type": "stream",
          "name": "stdout",
          "text": [
            "uhsnamih\n"
          ]
        }
      ]
    },
    {
      "cell_type": "code",
      "source": [],
      "metadata": {
        "id": "qNi7Q7CUT7nz"
      },
      "execution_count": null,
      "outputs": []
    }
  ],
  "metadata": {
    "colab": {
      "provenance": []
    },
    "kernelspec": {
      "display_name": "Python 3",
      "name": "python3"
    },
    "language_info": {
      "name": "python"
    }
  },
  "nbformat": 4,
  "nbformat_minor": 0
}