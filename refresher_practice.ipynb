{
  "cells": [
    {
      "cell_type": "markdown",
      "metadata": {
        "id": "jE0OBBYx3OO6"
      },
      "source": [
        "**Difference between list, set, tuple**"
      ]
    },
    {
      "cell_type": "markdown",
      "metadata": {
        "id": "hWXlH-5r2tzV"
      },
      "source": [
        "**List []** - ordered, mutable\n",
        "**Set {}** - unordered, mutable\n",
        "**Tuple ()** - ordered, immutable"
      ]
    },
    {
      "cell_type": "markdown",
      "metadata": {
        "id": "6BdI1e9m2RSS"
      },
      "source": [
        "**Dictionary**"
      ]
    },
    {
      "cell_type": "code",
      "execution_count": null,
      "metadata": {
        "colab": {
          "base_uri": "https://localhost:8080/",
          "height": 35
        },
        "id": "pRP02_3X12b_",
        "outputId": "4ffbba03-1a7a-4551-f0ae-f8555a47b806"
      },
      "outputs": [
        {
          "data": {
            "application/vnd.google.colaboratory.intrinsic+json": {
              "type": "string"
            },
            "text/plain": [
              "'HJ1000001'"
            ]
          },
          "execution_count": 27,
          "metadata": {},
          "output_type": "execute_result"
        }
      ],
      "source": [
        "deals_data = {\"deal_code\" : \"HJ1000001\", \"target_name\" : \"HJ\"}\n",
        "deals_data[\"deal_code\"]\n"
      ]
    },
    {
      "cell_type": "code",
      "execution_count": null,
      "metadata": {
        "colab": {
          "base_uri": "https://localhost:8080/",
          "height": 35
        },
        "id": "_dDe4rRq3Y3o",
        "outputId": "e4222c42-5bd1-49ec-ac88-000afd7be6c8"
      },
      "outputs": [
        {
          "data": {
            "application/vnd.google.colaboratory.intrinsic+json": {
              "type": "string"
            },
            "text/plain": [
              "'HJ1000003'"
            ]
          },
          "execution_count": 5,
          "metadata": {},
          "output_type": "execute_result"
        }
      ],
      "source": [
        "deals_data = [{\"deal_code\" : \"HJ1000001\", \"target_name\" : \"HJ\"},{\"deal_code\" : \"HJ1000002\", \"target_name\" : \"HDJ\"}, {\"deal_code\" : \"HJ1000003\", \"target_name\" : \"HDSJ\"}]\n",
        "deals_data[2][\"deal_code\"]"
      ]
    },
    {
      "cell_type": "markdown",
      "metadata": {
        "id": "JY6x0b0H8V-M"
      },
      "source": [
        "**Variables and Functions**"
      ]
    },
    {
      "cell_type": "code",
      "execution_count": null,
      "metadata": {
        "id": "sRB9oPM98ZFk"
      },
      "outputs": [],
      "source": [
        "def HJ():\n",
        "  a = 10\n",
        "  b = 19\n",
        "  c = 30\n",
        "  d = a+b-c\n",
        "  e = d*-1\n",
        "  f = e*49\n",
        "  print(\"the output is\", f)\n"
      ]
    },
    {
      "cell_type": "code",
      "execution_count": null,
      "metadata": {
        "id": "l7wkisyiPMbv",
        "colab": {
          "base_uri": "https://localhost:8080/"
        },
        "outputId": "ec87799d-ddca-40f8-8594-470a516a8219"
      },
      "outputs": [
        {
          "output_type": "stream",
          "name": "stdout",
          "text": [
            "the output is 49\n"
          ]
        }
      ],
      "source": [
        "HJ()"
      ]
    },
    {
      "cell_type": "code",
      "source": [
        "name = input(\"enter your name: \")\n",
        "print(\"your name is \", name)"
      ],
      "metadata": {
        "colab": {
          "base_uri": "https://localhost:8080/"
        },
        "id": "xKcnqW6p0DrM",
        "outputId": "c513dbff-145c-461c-8a04-2a48ecbb3510"
      },
      "execution_count": null,
      "outputs": [
        {
          "output_type": "stream",
          "name": "stdout",
          "text": [
            "enter your name: HJ\n",
            "your name is  HJ\n"
          ]
        }
      ]
    },
    {
      "cell_type": "markdown",
      "source": [
        "**Multiple Inputs**"
      ],
      "metadata": {
        "id": "Ofm2tchbUZh5"
      }
    },
    {
      "cell_type": "code",
      "source": [
        "a, b, c = input(\"enter number with comma space: \").split(\", \")\n",
        "print(\"your 1st number is \", a)\n",
        "print(\"your 2nd number is \", b)\n",
        "print(\"your 3rd number is \", c)\n",
        "type(a)"
      ],
      "metadata": {
        "colab": {
          "base_uri": "https://localhost:8080/"
        },
        "id": "Ry6XWqF_UfA3",
        "outputId": "d27e58f4-53f7-4843-f72d-efddb1f75144"
      },
      "execution_count": null,
      "outputs": [
        {
          "output_type": "stream",
          "name": "stdout",
          "text": [
            "enter number with comma space: 3, 4, 5\n",
            "your 1st number is  3\n",
            "your 2nd number is  4\n",
            "your 3rd number is  5\n"
          ]
        },
        {
          "output_type": "execute_result",
          "data": {
            "text/plain": [
              "str"
            ]
          },
          "metadata": {},
          "execution_count": 7
        }
      ]
    },
    {
      "cell_type": "code",
      "source": [
        "a, b, c, d = map(float, input(\"enter number with comma space: \").split(\", \"))\n",
        "print(\"your 1st number is \", a)\n",
        "print(\"your 2nd number is \", b)\n",
        "print(\"your 3rd number is \", c)\n",
        "print(\"your 4th number is \", d)\n",
        "type(a)"
      ],
      "metadata": {
        "colab": {
          "base_uri": "https://localhost:8080/"
        },
        "id": "joD7bp7dXQoL",
        "outputId": "cda7ec71-5ee2-4607-da44-a465b2f190da"
      },
      "execution_count": null,
      "outputs": [
        {
          "output_type": "stream",
          "name": "stdout",
          "text": [
            "enter number with comma space: 1, 2, 3, 5\n",
            "your 1st number is  1.0\n",
            "your 2nd number is  2.0\n",
            "your 3rd number is  3.0\n",
            "your 4th number is  5.0\n"
          ]
        },
        {
          "output_type": "execute_result",
          "data": {
            "text/plain": [
              "float"
            ]
          },
          "metadata": {},
          "execution_count": 12
        }
      ]
    },
    {
      "cell_type": "code",
      "source": [
        "from ast import Num\n",
        "a, b, c, d  = [int(num) for num in input(\"enter number with comma space: \").split(\", \")]\n",
        "print(\"your 1st number is \", a)\n",
        "print(\"your 2nd number is \", b)\n",
        "print(\"your 3rd number is \", c)\n",
        "print(\"your 4th number is \", d)\n",
        "type(a)"
      ],
      "metadata": {
        "colab": {
          "base_uri": "https://localhost:8080/"
        },
        "id": "QZsbO21xXuaJ",
        "outputId": "f33fad6d-07f8-4d78-916f-6b183426c924"
      },
      "execution_count": null,
      "outputs": [
        {
          "output_type": "stream",
          "name": "stdout",
          "text": [
            "enter number with comma space: 1, 2, 3, 5\n",
            "your 1st number is  1\n",
            "your 2nd number is  2\n",
            "your 3rd number is  3\n",
            "your 4th number is  5\n"
          ]
        },
        {
          "output_type": "execute_result",
          "data": {
            "text/plain": [
              "int"
            ]
          },
          "metadata": {},
          "execution_count": 17
        }
      ]
    },
    {
      "cell_type": "code",
      "source": [
        "digit = {int(digit) for digit in input(\"enter number with comma space: \").split(\", \")}\n",
        "print(digit)\n",
        "type(digit)"
      ],
      "metadata": {
        "colab": {
          "base_uri": "https://localhost:8080/"
        },
        "id": "Gf0M9u4bWzrv",
        "outputId": "4932ef4e-8b1f-4292-fa36-b12800fc7ba7"
      },
      "execution_count": null,
      "outputs": [
        {
          "output_type": "stream",
          "name": "stdout",
          "text": [
            "enter number with comma space: 1, 2, 3, 4\n",
            "{1, 2, 3, 4}\n"
          ]
        },
        {
          "output_type": "execute_result",
          "data": {
            "text/plain": [
              "set"
            ]
          },
          "metadata": {},
          "execution_count": 28
        }
      ]
    },
    {
      "cell_type": "code",
      "source": [
        "digit = input(\"enter number with comma space: \").split(\", \")\n",
        "digit = [int(digit) for digit in digit]\n",
        "print(digit)"
      ],
      "metadata": {
        "colab": {
          "base_uri": "https://localhost:8080/"
        },
        "id": "OKnOzEKUksA3",
        "outputId": "6f398ee3-13ba-4007-e93c-bbd7ce852a1d"
      },
      "execution_count": null,
      "outputs": [
        {
          "output_type": "stream",
          "name": "stdout",
          "text": [
            "enter number with comma space: 1, 2, 3, 4\n",
            "[1, 2, 3, 4]\n"
          ]
        }
      ]
    },
    {
      "cell_type": "code",
      "source": [
        "d = {\"XXXX\":6666, \"YYYYY\":77777}\n",
        "l = [\"XXXXX\",\"XXXXX\",\"YYYY\"]\n",
        "s = [d.get(key,\"abc\") for key in l]\n",
        "print (s)"
      ],
      "metadata": {
        "colab": {
          "base_uri": "https://localhost:8080/"
        },
        "id": "1SE0LR8P0EGB",
        "outputId": "c3e21062-c43d-4d7a-8133-0b59c9334813"
      },
      "execution_count": null,
      "outputs": [
        {
          "output_type": "stream",
          "name": "stdout",
          "text": [
            "['abc', 'abc', 'abc']\n"
          ]
        }
      ]
    },
    {
      "cell_type": "code",
      "source": [
        "abc = (1, 2, 3, 4, 5, 6, 7)\n",
        "total_sum = 0\n",
        "for numbers in abc:\n",
        "    total_sum = total_sum + numbers\n",
        "print (\"total sum is \", total_sum)"
      ],
      "metadata": {
        "colab": {
          "base_uri": "https://localhost:8080/"
        },
        "id": "7_Ri1dZu4tUK",
        "outputId": "acbce6b2-f262-46f7-81ea-f9ff503f3e7a"
      },
      "execution_count": null,
      "outputs": [
        {
          "output_type": "stream",
          "name": "stdout",
          "text": [
            "total sum is  28\n"
          ]
        }
      ]
    },
    {
      "cell_type": "code",
      "source": [
        "for i in range(10):\n",
        "    print((float(i)))"
      ],
      "metadata": {
        "colab": {
          "base_uri": "https://localhost:8080/"
        },
        "id": "MJp0mqchIsE0",
        "outputId": "ae8fe3a0-db30-4c52-879d-cb1c0b87c6a6"
      },
      "execution_count": null,
      "outputs": [
        {
          "output_type": "stream",
          "name": "stdout",
          "text": [
            "0.0\n",
            "1.0\n",
            "2.0\n",
            "3.0\n",
            "4.0\n",
            "5.0\n",
            "6.0\n",
            "7.0\n",
            "8.0\n",
            "9.0\n"
          ]
        }
      ]
    },
    {
      "cell_type": "code",
      "source": [
        "\n",
        "while True:\n",
        "             num = input()\n",
        "             if int(num) == 5:\n",
        "                print(25)\n",
        "                break\n",
        "             elif int(num) %4== 0:\n",
        "                continue\n",
        "             else: print(int(num)*int(num))\n",
        "\n",
        "\n",
        "\n"
      ],
      "metadata": {
        "colab": {
          "base_uri": "https://localhost:8080/"
        },
        "id": "i98_GOPVXxfv",
        "outputId": "4b70d452-c4d0-4419-8378-15f570ff1ac5"
      },
      "execution_count": null,
      "outputs": [
        {
          "output_type": "stream",
          "name": "stdout",
          "text": [
            "8\n",
            "12\n",
            "16\n",
            "5\n",
            "25\n"
          ]
        }
      ]
    },
    {
      "cell_type": "code",
      "source": [
        "\n",
        "abc = (1, 2, 3, 4, 5, 8, 8, 9)\n",
        "for i in abc:\n",
        "    if int(i) < 10:\n",
        "      print(int(i))\n"
      ],
      "metadata": {
        "colab": {
          "base_uri": "https://localhost:8080/"
        },
        "id": "2lkuqRy8uI8f",
        "outputId": "4413d68c-5372-491d-98ec-d6e7a950f6ec"
      },
      "execution_count": null,
      "outputs": [
        {
          "output_type": "stream",
          "name": "stdout",
          "text": [
            "1\n",
            "2\n",
            "3\n",
            "4\n",
            "5\n",
            "8\n",
            "8\n",
            "9\n"
          ]
        }
      ]
    },
    {
      "cell_type": "code",
      "source": [
        "\n",
        "abc = (1, 2, 3, 4, 5, 8, 8, 9)\n",
        "while abc > 0:\n",
        "      print(abc)\n",
        "\n"
      ],
      "metadata": {
        "colab": {
          "base_uri": "https://localhost:8080/",
          "height": 211
        },
        "id": "GBDxIAittCLp",
        "outputId": "d5bb5399-ed4b-421e-be02-c70b47882c0b"
      },
      "execution_count": null,
      "outputs": [
        {
          "output_type": "error",
          "ename": "TypeError",
          "evalue": "'>' not supported between instances of 'tuple' and 'int'",
          "traceback": [
            "\u001b[0;31m---------------------------------------------------------------------------\u001b[0m",
            "\u001b[0;31mTypeError\u001b[0m                                 Traceback (most recent call last)",
            "\u001b[0;32m/tmp/ipython-input-543140151.py\u001b[0m in \u001b[0;36m<cell line: 0>\u001b[0;34m()\u001b[0m\n\u001b[1;32m      1\u001b[0m \u001b[0mabc\u001b[0m \u001b[0;34m=\u001b[0m \u001b[0;34m(\u001b[0m\u001b[0;36m1\u001b[0m\u001b[0;34m,\u001b[0m \u001b[0;36m2\u001b[0m\u001b[0;34m,\u001b[0m \u001b[0;36m3\u001b[0m\u001b[0;34m,\u001b[0m \u001b[0;36m4\u001b[0m\u001b[0;34m,\u001b[0m \u001b[0;36m5\u001b[0m\u001b[0;34m,\u001b[0m \u001b[0;36m8\u001b[0m\u001b[0;34m,\u001b[0m \u001b[0;36m8\u001b[0m\u001b[0;34m,\u001b[0m \u001b[0;36m9\u001b[0m\u001b[0;34m)\u001b[0m\u001b[0;34m\u001b[0m\u001b[0;34m\u001b[0m\u001b[0m\n\u001b[0;32m----> 2\u001b[0;31m \u001b[0;32mwhile\u001b[0m \u001b[0mabc\u001b[0m \u001b[0;34m>\u001b[0m \u001b[0;36m0\u001b[0m\u001b[0;34m:\u001b[0m\u001b[0;34m\u001b[0m\u001b[0;34m\u001b[0m\u001b[0m\n\u001b[0m\u001b[1;32m      3\u001b[0m       \u001b[0mprint\u001b[0m\u001b[0;34m(\u001b[0m\u001b[0mabc\u001b[0m\u001b[0;34m)\u001b[0m\u001b[0;34m\u001b[0m\u001b[0;34m\u001b[0m\u001b[0m\n\u001b[1;32m      4\u001b[0m \u001b[0;34m\u001b[0m\u001b[0m\n\u001b[1;32m      5\u001b[0m \u001b[0;34m\u001b[0m\u001b[0m\n",
            "\u001b[0;31mTypeError\u001b[0m: '>' not supported between instances of 'tuple' and 'int'"
          ]
        }
      ]
    },
    {
      "cell_type": "code",
      "source": [
        "for x in range(3):\n",
        "    for y in range(5):\n",
        "        print(\"*\", end=\"\")\n",
        "    print()\n"
      ],
      "metadata": {
        "colab": {
          "base_uri": "https://localhost:8080/"
        },
        "id": "it5HdElkwtQG",
        "outputId": "68a5680c-64ce-45db-f016-b24a4d6b387c"
      },
      "execution_count": null,
      "outputs": [
        {
          "output_type": "stream",
          "name": "stdout",
          "text": [
            "*****\n",
            "*****\n",
            "*****\n"
          ]
        }
      ]
    },
    {
      "cell_type": "code",
      "source": [
        "n = 0\n",
        "while n<6:\n",
        "      x = (\"*\")*n\n",
        "      print(x)\n",
        "      n+=1"
      ],
      "metadata": {
        "colab": {
          "base_uri": "https://localhost:8080/"
        },
        "id": "24ZJTTgMxaf2",
        "outputId": "593abd2b-1c26-4ad0-efa7-305b76838354"
      },
      "execution_count": null,
      "outputs": [
        {
          "output_type": "stream",
          "name": "stdout",
          "text": [
            "\n",
            "*\n",
            "**\n",
            "***\n",
            "****\n",
            "*****\n"
          ]
        }
      ]
    },
    {
      "cell_type": "code",
      "source": [
        "n = 5\n",
        "for i in range(n):\n",
        "    for j in range(5-i):\n",
        "        print(' ',end='')\n",
        "    for z in range(2*i+1):\n",
        "        print('*',end='')\n",
        "    print('')\n"
      ],
      "metadata": {
        "colab": {
          "base_uri": "https://localhost:8080/"
        },
        "id": "pfIQOPPs229g",
        "outputId": "65783a9d-3c5a-4b90-c61e-3c2336431171"
      },
      "execution_count": null,
      "outputs": [
        {
          "output_type": "stream",
          "name": "stdout",
          "text": [
            "     *\n",
            "    ***\n",
            "   *****\n",
            "  *******\n",
            " *********\n"
          ]
        }
      ]
    },
    {
      "cell_type": "code",
      "source": [
        " n = 5\n",
        "for i in range(n):\n",
        "    for j in range(5-i-1):\n",
        "        print(' ',end='')\n",
        "    for z in range(2*i+1):\n",
        "        print('*',end='')\n",
        "    print('')\n",
        "for k in range(n-1,0,-1):\n",
        "    print(' '*(n-k),end='')\n",
        "    print('*'*(2*k-1))"
      ],
      "metadata": {
        "colab": {
          "base_uri": "https://localhost:8080/"
        },
        "id": "vNFEpzXnNz3q",
        "outputId": "a4e96755-091b-4280-c672-b762ef78b963"
      },
      "execution_count": null,
      "outputs": [
        {
          "output_type": "stream",
          "name": "stdout",
          "text": [
            "    *\n",
            "   ***\n",
            "  *****\n",
            " *******\n",
            "*********\n",
            " *******\n",
            "  *****\n",
            "   ***\n",
            "    *\n"
          ]
        }
      ]
    },
    {
      "cell_type": "code",
      "source": [
        "l = 'abcba'\n",
        "for i in range(len(l)-1):\n",
        "   if l[i] != l[len(l)-i-1]:\n",
        "      print(\"not palindrome\")\n",
        "   else:\n",
        "      continue\n",
        "print(\"palinndrome\")"
      ],
      "metadata": {
        "colab": {
          "base_uri": "https://localhost:8080/"
        },
        "id": "ohwDi972HjY3",
        "outputId": "98e15e13-3a98-4bec-d525-855796aa89e3"
      },
      "execution_count": null,
      "outputs": [
        {
          "output_type": "stream",
          "name": "stdout",
          "text": [
            "palinndrome\n"
          ]
        }
      ]
    },
    {
      "cell_type": "code",
      "source": [
        "j = ''\n",
        "l = 'himanshu'\n",
        "for i in l:\n",
        "   j = i + j\n",
        "print(j)"
      ],
      "metadata": {
        "colab": {
          "base_uri": "https://localhost:8080/"
        },
        "id": "75vmqt_xOSzl",
        "outputId": "c9b3cfbb-24bf-42e6-88c0-a8d7840af429"
      },
      "execution_count": null,
      "outputs": [
        {
          "output_type": "stream",
          "name": "stdout",
          "text": [
            "uhsnamih\n"
          ]
        }
      ]
    },
    {
      "cell_type": "code",
      "source": [
        "d = {'name': 'Alice', 'age': 25, 'city': 'New York'}\n",
        "d.get('name')"
      ],
      "metadata": {
        "colab": {
          "base_uri": "https://localhost:8080/",
          "height": 35
        },
        "id": "qNi7Q7CUT7nz",
        "outputId": "e639c4af-0381-4052-dcc4-151855498531"
      },
      "execution_count": null,
      "outputs": [
        {
          "output_type": "execute_result",
          "data": {
            "text/plain": [
              "'Alice'"
            ],
            "application/vnd.google.colaboratory.intrinsic+json": {
              "type": "string"
            }
          },
          "metadata": {},
          "execution_count": 5
        }
      ]
    },
    {
      "cell_type": "code",
      "source": [
        "n = {\n",
        "     'code1' : {'code': '12345', 'age': 25, 'data':{'code1':'1', \"code2\":'2'}},\n",
        "     'code2' : {'code': '45678', 'age': 25, 'data':{'code1':'3', \"code2\":'4'}},\n",
        "     'code3' : {'code': '98765', 'age': 25, 'data':{'code1':'5', \"code2\":'6'}}\n",
        "     }"
      ],
      "metadata": {
        "id": "8sdb_NNnb1yd"
      },
      "execution_count": null,
      "outputs": []
    },
    {
      "cell_type": "code",
      "source": [
        "n = d|n\n",
        "n"
      ],
      "metadata": {
        "colab": {
          "base_uri": "https://localhost:8080/"
        },
        "id": "cVOQpDNRcUh-",
        "outputId": "79f2c84f-8ca1-46db-f1b4-78a7880d40df"
      },
      "execution_count": null,
      "outputs": [
        {
          "output_type": "execute_result",
          "data": {
            "text/plain": [
              "{'name': 'Alice',\n",
              " 'age': 25,\n",
              " 'city': 'New York',\n",
              " 'code1': {'code': '12345', 'age': 25, 'data': {'code1': '1', 'code2': '2'}},\n",
              " 'code2': {'code': '45678', 'age': 25, 'data': {'code1': '3', 'code2': '4'}},\n",
              " 'code3': {'code': '98765', 'age': 25, 'data': {'code1': '5', 'code2': '6'}}}"
            ]
          },
          "metadata": {},
          "execution_count": 10
        }
      ]
    },
    {
      "cell_type": "code",
      "source": [
        "print(n.keys())"
      ],
      "metadata": {
        "colab": {
          "base_uri": "https://localhost:8080/"
        },
        "id": "n9VdhkOQchq4",
        "outputId": "3e41e990-ac49-4125-c0e5-059545fe06d5"
      },
      "execution_count": null,
      "outputs": [
        {
          "output_type": "stream",
          "name": "stdout",
          "text": [
            "dict_keys(['name', 'age', 'city', 'code1', 'code2', 'code3'])\n"
          ]
        }
      ]
    },
    {
      "cell_type": "markdown",
      "source": [
        "Q1 : Description\n",
        "Sometimes the data has few duplicate values which will affect the analysis done. In this problem, you will be given a list. You have to find and delete the duplicates and print the updated list with no duplicates.\n",
        "\n",
        "----------------------------------------------------------------------\n",
        "Input:\n",
        "A list of integers.\n",
        "\n",
        "Output:\n",
        "A list of integers, with duplicates removed if any.\n",
        "\n",
        "----------------------------------------------------------------------\n",
        "Sample input:\n",
        "[8, 9, 2, 2, 3, 4, 5, 2]\n",
        "\n",
        "Sample output:\n",
        "[8, 9, 2, 3, 4, 5]\n",
        "\n",
        "----------------------------------------------------------------------\n",
        "Sample input:\n",
        "[4, 4, 4, 4]\n",
        "\n",
        "Sample output:\n",
        "[4]\n",
        "\n",
        "----------------------------------------------------------------------\n",
        "Note the order of the data did not change in input and output."
      ],
      "metadata": {
        "id": "XV56DttLyMe5"
      }
    },
    {
      "cell_type": "code",
      "source": [
        "l = [10,9,3,3,3,4,5,6,7,8]\n",
        "list(dict.fromkeys(l))"
      ],
      "metadata": {
        "colab": {
          "base_uri": "https://localhost:8080/"
        },
        "id": "LWRlGh8Yvl97",
        "outputId": "d0ef84be-815a-401f-f8a0-4b8f79d16055"
      },
      "execution_count": 8,
      "outputs": [
        {
          "output_type": "execute_result",
          "data": {
            "text/plain": [
              "[10, 9, 3, 4, 5, 6, 7, 8]"
            ]
          },
          "metadata": {},
          "execution_count": 8
        }
      ]
    },
    {
      "cell_type": "markdown",
      "source": [
        "Q2 : You will be converting a dictionary, of string(keys) and list of string (values),  to a list of strings. Please check the sample input/output for clarification.\n",
        "\n",
        "\n",
        "Input:\n",
        "A dictionary with keys as strings and values as a list of strings.\n",
        "\n",
        "Output:\n",
        "A list of strings\n",
        "\n",
        "\n",
        "Sample input:\n",
        "{‘Mobile’: [‘Redmi’, ‘Samsung’, ‘Realme’],\n",
        "‘Laptop’: [‘Dell’, ‘HP’],\n",
        "‘TV’: [‘Videocon’, ‘Sony’] }\n",
        "\n",
        "Sample output:\n",
        "[‘Mobile_Redmi’, ‘Mobile_Samsung’, ‘Mobile_Realme’, ‘Laptop_Dell’, ‘Laptop_HP’, ‘TV_Videocon’, ‘TV_Sony’]\n",
        "\n",
        "\n",
        "Sample input:\n",
        "{ 'Pen': ['Gel', 'Ink', 'ball'],\n",
        "'Mobile': ['Android', 'apple'] }\n",
        "\n",
        "Sample output:\n",
        "['Pen_Gel', 'Pen_Ink', 'Pen_ball', 'Mobile_Android', 'Mobile_apple']"
      ],
      "metadata": {
        "id": "esRvtYoVyW6v"
      }
    },
    {
      "cell_type": "code",
      "source": [
        "a = {'Mobile': ['Redmi', 'Samsung', 'Realme'], 'Laptop': ['Dell', 'HP'], 'TV': ['Videocon', 'Sony'] }\n",
        "z=[]\n",
        "for i,j in a.items():\n",
        "  for b in j:\n",
        "     z.append(f\"{i}_{b}\")\n",
        "print(z)"
      ],
      "metadata": {
        "id": "436U2ylXybJr",
        "colab": {
          "base_uri": "https://localhost:8080/"
        },
        "outputId": "6845edbc-e3fc-404b-b7ab-b4d213c2e261"
      },
      "execution_count": 63,
      "outputs": [
        {
          "output_type": "stream",
          "name": "stdout",
          "text": [
            "['Mobile_Redmi', 'Mobile_Samsung', 'Mobile_Realme', 'Laptop_Dell', 'Laptop_HP', 'TV_Videocon', 'TV_Sony']\n"
          ]
        }
      ]
    },
    {
      "cell_type": "markdown",
      "source": [
        "Q3 : Description\n",
        "You will be given a string with a lot of brackets. You have to print if the brackets are balanced or not. Remember, there are three types of brackets: ‘( )’,  ‘{ }’ and ‘[ ]’.\n",
        "\n",
        "----------------------------------------------------------------------\n",
        "Input:\n",
        "A string\n",
        "\n",
        "Output:\n",
        "Yes, if the brackets are balanced.\n",
        "No otherwise."
      ],
      "metadata": {
        "id": "VKBAVQHVV018"
      }
    },
    {
      "cell_type": "code",
      "source": [
        "s2 = '{{{[[[[]]]}(())'\n",
        "s = '{{{{[[[[((()))]]]]}}}}'\n",
        "\n",
        "\n",
        "if s.count('{') == s.count('}') and s.count('[') == s.count(']') and s.count('(')== s.count(')'):\n",
        "  print(\"Balanced\")\n",
        "else :\n",
        "  print(\"Not balanced\")"
      ],
      "metadata": {
        "colab": {
          "base_uri": "https://localhost:8080/"
        },
        "id": "j2davJ9zV2Pg",
        "outputId": "6893a79f-e0ce-401d-d47c-b9ddc01ab0bb"
      },
      "execution_count": 96,
      "outputs": [
        {
          "output_type": "stream",
          "name": "stdout",
          "text": [
            "Balanced\n"
          ]
        }
      ]
    },
    {
      "cell_type": "markdown",
      "source": [
        "Q4 You will be given a dictionary with keys as items and values as their prices. You have to print the cheapest item.\n",
        "\n",
        "----------------------------------------------------------------------\n",
        "Sample input:\n",
        "A single line non-empty dictionary\n",
        "\n",
        "Sample output:\n",
        "cheapest_item name: cheapest_item_cost\n",
        "\n",
        "----------------------------------------------------------------------\n",
        "Sample input:\n",
        "{'mobile1':10000, 'mobile2':11000, 'mobile3':13000, 'mobile4':9000, 'mobile5':15000, 'mobile6':16000, 'mobile7':17000, 'mobile8':18000, 'mobile9':19000}\n",
        "\n",
        "Sample output:\n",
        "mobile4: 9000\n",
        "\n",
        "Note: in case of a tie, whichever item came first should be the output."
      ],
      "metadata": {
        "id": "vB0DWjtfbjAf"
      }
    },
    {
      "cell_type": "code",
      "source": [
        "a = {'mobile1':9000, 'mobile2':11000, 'mobile3':13000, 'mobile4':9000, 'mobile5':15000, 'mobile6':9000, 'mobile7':17000, 'mobile8':18000, 'mobile9':19000}\n",
        "l = []\n",
        "q = []\n",
        "for i,j in a.items():\n",
        "  q.append(i)\n",
        "  l.append(j)\n",
        "b = l.index(min(l))\n",
        "c = q[b]\n",
        "print(c,l[b], sep=\":\")"
      ],
      "metadata": {
        "colab": {
          "base_uri": "https://localhost:8080/",
          "height": 211
        },
        "id": "DkA7Fd4Cbkcf",
        "outputId": "13d88834-22d4-4c9c-b496-eba400955217"
      },
      "execution_count": 19,
      "outputs": [
        {
          "output_type": "error",
          "ename": "TypeError",
          "evalue": "'int' object is not callable",
          "traceback": [
            "\u001b[0;31m---------------------------------------------------------------------------\u001b[0m",
            "\u001b[0;31mTypeError\u001b[0m                                 Traceback (most recent call last)",
            "\u001b[0;32m/tmp/ipython-input-2370881617.py\u001b[0m in \u001b[0;36m<cell line: 0>\u001b[0;34m()\u001b[0m\n\u001b[1;32m      5\u001b[0m   \u001b[0mq\u001b[0m\u001b[0;34m.\u001b[0m\u001b[0mappend\u001b[0m\u001b[0;34m(\u001b[0m\u001b[0mi\u001b[0m\u001b[0;34m)\u001b[0m\u001b[0;34m\u001b[0m\u001b[0;34m\u001b[0m\u001b[0m\n\u001b[1;32m      6\u001b[0m   \u001b[0ml\u001b[0m\u001b[0;34m.\u001b[0m\u001b[0mappend\u001b[0m\u001b[0;34m(\u001b[0m\u001b[0mj\u001b[0m\u001b[0;34m)\u001b[0m\u001b[0;34m\u001b[0m\u001b[0;34m\u001b[0m\u001b[0m\n\u001b[0;32m----> 7\u001b[0;31m \u001b[0mb\u001b[0m \u001b[0;34m=\u001b[0m \u001b[0ml\u001b[0m\u001b[0;34m.\u001b[0m\u001b[0mindex\u001b[0m\u001b[0;34m(\u001b[0m\u001b[0mmin\u001b[0m\u001b[0;34m(\u001b[0m\u001b[0ml\u001b[0m\u001b[0;34m)\u001b[0m\u001b[0;34m)\u001b[0m\u001b[0;34m\u001b[0m\u001b[0;34m\u001b[0m\u001b[0m\n\u001b[0m\u001b[1;32m      8\u001b[0m \u001b[0mc\u001b[0m \u001b[0;34m=\u001b[0m \u001b[0mq\u001b[0m\u001b[0;34m[\u001b[0m\u001b[0mb\u001b[0m\u001b[0;34m]\u001b[0m\u001b[0;34m\u001b[0m\u001b[0;34m\u001b[0m\u001b[0m\n\u001b[1;32m      9\u001b[0m \u001b[0mprint\u001b[0m\u001b[0;34m(\u001b[0m\u001b[0mc\u001b[0m\u001b[0;34m,\u001b[0m\u001b[0ml\u001b[0m\u001b[0;34m[\u001b[0m\u001b[0mb\u001b[0m\u001b[0;34m]\u001b[0m\u001b[0;34m,\u001b[0m \u001b[0msep\u001b[0m\u001b[0;34m=\u001b[0m\u001b[0;34m\":\"\u001b[0m\u001b[0;34m)\u001b[0m\u001b[0;34m\u001b[0m\u001b[0;34m\u001b[0m\u001b[0m\n",
            "\u001b[0;31mTypeError\u001b[0m: 'int' object is not callable"
          ]
        }
      ]
    },
    {
      "cell_type": "markdown",
      "source": [
        "Q5 You will be given a list of repeated elements. You have to find the maximum distance between two same elements. The answer will be zero if there are no repeated elements.\n",
        "\n",
        "----------------------------------------------------------------------\n",
        "Input:\n",
        "A non-empty list of integers.\n",
        "\n",
        "Output:\n",
        "A single integer denoting the maximum distance between two same integers.\n",
        "\n",
        "----------------------------------------------------------------------\n",
        "Sample input:\n",
        "[1, 2, 3, 2, 5, 1, 2, 4, 6, 2, 7, 8, 6]\n",
        "\n",
        "Sample output:\n",
        "8\n",
        "\n",
        "Explanation:\n",
        "Max distance for 1: 5\n",
        "Max distance for 2: 8\n",
        "Max distance for 3: 0\n",
        "Max distance for 4: 0\n",
        "Max distance for 5: 0\n",
        "Max distance for 6: 4\n",
        "Max distance for 7: 0\n",
        "Max distance for 8: 0\n"
      ],
      "metadata": {
        "id": "t1nLs6k5jeMa"
      }
    },
    {
      "cell_type": "code",
      "source": [
        "a = [1, 2, 3, 2, 5, 1, 2, 4, 6, 2, 7, 8, 6]\n",
        "c = []\n",
        "for i in a:\n",
        "   b = (len(a) - 1 - list(reversed(a)).index(i)) - a.index(i)\n",
        "   c.append(b)\n",
        "print(max(c))"
      ],
      "metadata": {
        "colab": {
          "base_uri": "https://localhost:8080/"
        },
        "id": "YALNjRcilK9m",
        "outputId": "db875472-0e76-4c26-ec8c-ccaf3824dd2e"
      },
      "execution_count": 20,
      "outputs": [
        {
          "output_type": "stream",
          "name": "stdout",
          "text": [
            "8\n"
          ]
        }
      ]
    },
    {
      "cell_type": "markdown",
      "source": [
        "Q6 Your team is going for camping and you are taking a vote to decide what food to pack for dinner.\n",
        "Everyone gets a vote and the food item that gets at least one more than half of the votes wins. None of the items wins if nothing gets at least one more than half votes. Assume that every person gets only one vote.\n",
        "The input will contain a list of food items where each occurrence of an item represents one vote. You should print the winning food item as output. If there is no clear winner, print \"NOTA\".\n",
        "\n",
        "Sample Input:\n",
        "[\"pasta\",\"pasta\",\"pasta\",\"pasta\",\"pasta\",\"paratha\",\"paratha\",\"paratha\"]\n",
        "Sample Output:\n",
        "pasta"
      ],
      "metadata": {
        "id": "memtPAx8sFvP"
      }
    },
    {
      "cell_type": "code",
      "source": [
        "a = [\"paratha\",\"bread\", \"bread\",\"pizza\",\"pizza\",\"pizza\",\"pizza\"]\n",
        "d = {}\n",
        "e = []\n",
        "b = []\n",
        "for i in a:\n",
        "  d[i] = a.count(i)\n",
        "for i,j in d.items():\n",
        "  b.append(i)\n",
        "  e.append(j)\n",
        "if max(e)>len(a)/2:\n",
        "    print(b[e.index(max(e))])\n",
        "else:\n",
        "    print(\"NOTA\")\n",
        "\n",
        "\n",
        "\n"
      ],
      "metadata": {
        "colab": {
          "base_uri": "https://localhost:8080/"
        },
        "id": "8OMeUw-6sHdN",
        "outputId": "6b3907ff-3110-4b92-cd13-0fea0a2e9d33"
      },
      "execution_count": 22,
      "outputs": [
        {
          "output_type": "stream",
          "name": "stdout",
          "text": [
            "pizza\n"
          ]
        }
      ]
    },
    {
      "cell_type": "markdown",
      "source": [
        "Q7 Consider a nested dictionary as follows:\n",
        "\n",
        "{'Fruit': 1, 'Vegetable': {'Cabbage': 2, 'Cauliflower': 3}, 'Spices': 4}\n",
        "\n",
        "Your task is to flatten a nested dictionary and join the nested keys with the \"_\" character. For the above dictionary, the flattened dictionary would be as follows:\n",
        "\n",
        "{'Fruit': 1, 'Vegetable_Cabbage': 2, 'Vegetable_Cauliflower': 3, 'Spices': 4}\n",
        "\n",
        "\n",
        "\n",
        "The input will have a nested dictionary.\n",
        "\n",
        "The output should have two lists. The first list will have keys and the second list should have values. Both lists should be sorted."
      ],
      "metadata": {
        "id": "PBVFIMUIlah3"
      }
    },
    {
      "cell_type": "code",
      "source": [
        "a = {'Fruit': 1, 'Vegetable': {'Cabbage': 2, 'Cauliflower': 3}, 'Spices': 4}\n",
        "c = {}\n",
        "for x,y in a.items():\n",
        "  if type(y) == dict:\n",
        "    for e,f in y.items():\n",
        "        c[f\"{x}_{e}\"] = f\n",
        "  else: c[x] = y\n",
        "keys = sorted(c.keys())\n",
        "values = [c[k] for k in keys]"
      ],
      "metadata": {
        "id": "wk7_3AOuleke"
      },
      "execution_count": 1,
      "outputs": []
    },
    {
      "cell_type": "markdown",
      "source": [
        "Q 8 In the binary search, you kept reducing the search space into half of the previous search space. In this question, can you similarly reduce the search space in one-third of the last space search and write a searching algorithm?\n",
        "\n",
        "----------------------------------------------------------------------\n",
        "Input:\n",
        "A non-empty sorted list of unique integers in line one\n",
        "The integer key to be found in line two\n",
        "\n",
        "Output:\n",
        "Index of the element key if it is present in the list, else -1\n",
        "\n",
        "----------------------------------------------------------------------\n",
        "Sample input:\n",
        "[3, 5, 7, 9, 11, 13, 15, 17, 19, 21, 23, 25, 27]\n",
        "17\n",
        "\n",
        "Sample output:\n",
        "7\n",
        "\n",
        "----------------------------------------------------------------------\n",
        "Sample input:\n",
        "[3, 5, 7, 9, 11, 13, 15, 17, 19, 21, 23, 25, 27]\n",
        "1\n",
        "\n",
        "\n",
        "Sample output:\n",
        "-1\n"
      ],
      "metadata": {
        "id": "a1SM7dMVwGaC"
      }
    },
    {
      "cell_type": "code",
      "source": [],
      "metadata": {
        "id": "QXvlg8V3CuDu"
      },
      "execution_count": null,
      "outputs": []
    }
  ],
  "metadata": {
    "colab": {
      "provenance": []
    },
    "kernelspec": {
      "display_name": "Python 3",
      "name": "python3"
    },
    "language_info": {
      "name": "python"
    }
  },
  "nbformat": 4,
  "nbformat_minor": 0
}